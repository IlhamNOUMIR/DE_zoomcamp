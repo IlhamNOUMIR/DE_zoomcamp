{
 "cells": [
  {
   "cell_type": "markdown",
   "id": "2c2b6844",
   "metadata": {},
   "source": [
    "### Question 1. What is the sum of the outputs of the generator for limit = 5?"
   ]
  },
  {
   "cell_type": "code",
   "execution_count": 6,
   "id": "d02fa1ba",
   "metadata": {},
   "outputs": [
    {
     "name": "stdout",
     "output_type": "stream",
     "text": [
      "Sum of square roots for limit = 5 : 8.382332347441762\n"
     ]
    }
   ],
   "source": [
    "def square_root_generator(limit):\n",
    "    n = 1\n",
    "    while n <= limit:\n",
    "        yield n ** 0.5\n",
    "        n += 1\n",
    "\n",
    "limit = 5\n",
    "generator = square_root_generator(limit)\n",
    "\n",
    "\n",
    "sum_of_outputs = sum(generator)\n",
    "\n",
    "print(\"Sum of square roots for limit =\", limit, \":\", sum_of_outputs)"
   ]
  },
  {
   "cell_type": "markdown",
   "id": "0d698c37",
   "metadata": {},
   "source": [
    "### Question 2. What is the 13th number yielded by the generator?"
   ]
  },
  {
   "cell_type": "code",
   "execution_count": 12,
   "id": "0e8c3dc3",
   "metadata": {},
   "outputs": [
    {
     "name": "stdout",
     "output_type": "stream",
     "text": [
      "The 13th number yielded by the generator: 3.605551275463989\n"
     ]
    }
   ],
   "source": [
    "\n",
    "\n",
    "def square_root_generator(limit):\n",
    "    n = 1\n",
    "    count = 0\n",
    "    while count < limit:\n",
    "        sqrt_value = n ** 0.5\n",
    "        yield sqrt_value\n",
    "        n += 1\n",
    "        count += 1\n",
    "\n",
    "limit = 13\n",
    "generator = square_root_generator(limit)\n",
    "\n",
    "# Iterate through the generator until the 13th number\n",
    "for i in range(limit):\n",
    "    sqrt_value = next(generator)\n",
    "\n",
    "print(\"The 13th number yielded by the generator:\", sqrt_value)"
   ]
  },
  {
   "cell_type": "markdown",
   "id": "00244bee",
   "metadata": {},
   "source": [
    "###  Question 3. Append the 2 generators. After correctly appending the data, calculate the sum of all ages of people."
   ]
  },
  {
   "cell_type": "code",
   "execution_count": 13,
   "id": "56799152",
   "metadata": {},
   "outputs": [
    {
     "name": "stdout",
     "output_type": "stream",
     "text": [
      "Sum of all ages of people: 353\n"
     ]
    }
   ],
   "source": [
    "def people_1():\n",
    "    for i in range(1, 6):\n",
    "        yield {\"ID\": i, \"Name\": f\"Person_{i}\", \"Age\": 25 + i, \"City\": \"City_A\"}\n",
    "\n",
    "def people_2():\n",
    "    for i in range(3, 9):\n",
    "        yield {\"ID\": i, \"Name\": f\"Person_{i}\", \"Age\": 30 + i, \"City\": \"City_B\", \"Occupation\": f\"Job_{i}\"}\n",
    "\n",
    "def combined_people():\n",
    "    for person in people_1():\n",
    "        yield person\n",
    "    for person in people_2():\n",
    "        yield person\n",
    "\n",
    "# Calculate the sum of all ages\n",
    "sum_of_ages = sum(person[\"Age\"] for person in combined_people())\n",
    "\n",
    "print(\"Sum of all ages of people:\", sum_of_ages)"
   ]
  },
  {
   "cell_type": "markdown",
   "id": "84951b3b",
   "metadata": {},
   "source": [
    "### Question 4. Merge the 2 generators using the ID column. Calculate the sum of ages of all the people loaded as described above.\n",
    "\n"
   ]
  },
  {
   "cell_type": "code",
   "execution_count": 14,
   "id": "57d4190c",
   "metadata": {},
   "outputs": [
    {
     "name": "stdout",
     "output_type": "stream",
     "text": [
      "Sum of ages of all the people loaded: 266\n"
     ]
    }
   ],
   "source": [
    "def people_1():\n",
    "    for i in range(1, 6):\n",
    "        yield {\"ID\": i, \"Name\": f\"Person_{i}\", \"Age\": 25 + i, \"City\": \"City_A\"}\n",
    "\n",
    "def people_2():\n",
    "    for i in range(3, 9):\n",
    "        yield {\"ID\": i, \"Name\": f\"Person_{i}\", \"Age\": 30 + i, \"City\": \"City_B\", \"Occupation\": f\"Job_{i}\"}\n",
    "\n",
    "people_dict = {}\n",
    "for person in people_1():\n",
    "    people_dict[person[\"ID\"]] = person\n",
    "for person in people_2():\n",
    "    if person[\"ID\"] in people_dict:\n",
    "        \n",
    "        people_dict[person[\"ID\"]].update(person)\n",
    "    else:\n",
    "        \n",
    "        people_dict[person[\"ID\"]] = person\n",
    "\n",
    "\n",
    "sum_of_ages = sum(person[\"Age\"] for person in people_dict.values())\n",
    "\n",
    "print(\"Sum of ages of all the people loaded:\", sum_of_ages)\n"
   ]
  },
  {
   "cell_type": "code",
   "execution_count": null,
   "id": "a2c75efc",
   "metadata": {},
   "outputs": [],
   "source": []
  }
 ],
 "metadata": {
  "kernelspec": {
   "display_name": "Python 3 (ipykernel)",
   "language": "python",
   "name": "python3"
  },
  "language_info": {
   "codemirror_mode": {
    "name": "ipython",
    "version": 3
   },
   "file_extension": ".py",
   "mimetype": "text/x-python",
   "name": "python",
   "nbconvert_exporter": "python",
   "pygments_lexer": "ipython3",
   "version": "3.9.7"
  }
 },
 "nbformat": 4,
 "nbformat_minor": 5
}
